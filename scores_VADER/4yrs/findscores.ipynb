{
 "cells": [
  {
   "cell_type": "code",
   "execution_count": 2,
   "id": "italic-caribbean",
   "metadata": {},
   "outputs": [
    {
     "name": "stdout",
     "output_type": "stream",
     "text": [
      "True\n",
      "1334\n",
      "1334\n",
      "                                               HeadLine       day      Dates\n",
      "8223  What changed for the market while you were sle...  Thursday  4/13/2017\n",
      "['Infosys earnings, weak macro data hit market sentiment: Sensex falls 182 pts', 'Top 5 stocks to buy which can give up to 18% upside in short term', 'Expect Nifty to shed 29 points at opening: Maximus Securities', 'Tracking negative Asian cues, Nifty may open lower: ICICIdirect', 'Nifty Future to open at 9199: Dynamic Levels', 'Ganeshaspeaks: Nifty prediction for April 13', 'What changed for the market while you were sleeping? 12 things to know']\n",
      "\n",
      "                                            HeadLine      day      Dates\n",
      "0  Technical View: Nifty forms bullish candle, ra...  Tuesday  4/13/2021\n",
      "['Technical View: Nifty forms bullish candle, rally can extend to 14,600-14,650', 'Taking Stock: Market shrugs off weak macro data to gain more than 1%; auto, banks, metal shine', 'After The Bell: Nifty back above 14500; what should investors do on Thursday?', 'Second COVID wave far worse, Nifty can fall 4-8% but use dips to buy, say experts', 'IPL portfolio for FY22: Experts put together 11 stocks to help you hit your long-term goals', 'DAILY VOICE | Can bet on export-oriented sectors as recovery seems faster in the west: Harshad Chetanwala of MyWealthGrowth', 'Trade Spotlight: What should investors do with Cipla, Dr Reddy’s & Infosys?', 'Hot Stocks | Fine Organic, AstraZeneca Pharma, Metropolis Healthcare can give up to 19% return in short term', 'Closing Bell: Nifty ends above 14,500, Sensex gains 660 pts led by auto, metal, financials']\n"
     ]
    }
   ],
   "source": [
    "import numpy as np\n",
    "import pandas as pd\n",
    "\n",
    "df = pd.read_csv('stock_news_date.csv')\n",
    "df.head()\n",
    "print(df['Dates'][0]==df['Dates'][1])\n",
    "al=[]\n",
    "news=[]\n",
    "for i in range(len(df)-1):\n",
    "    \n",
    "    if(df['Dates'][i]!=df['Dates'][i+1]) :\n",
    "        news.append(df['HeadLine'][i])\n",
    "        al.append(news)\n",
    "        \n",
    "        #print(news)\n",
    "        news=[]\n",
    "    else:\n",
    "        news.append(df['HeadLine'][i])\n",
    "#print(al)\n",
    "print(len(al))\n",
    "#add random future date to end(no include last date data.)\n",
    "df.drop(df.tail(1).index,inplace=True)\n",
    "print(len(df.Dates.unique()))\n",
    "print(df.tail(1))\n",
    "print(al[-1])\n",
    "print('')\n",
    "print(df.head(1))\n",
    "print(al[0])"
   ]
  },
  {
   "cell_type": "code",
   "execution_count": 13,
   "id": "signed-olympus",
   "metadata": {},
   "outputs": [],
   "source": [
    "dates = df.Dates.unique()"
   ]
  },
  {
   "cell_type": "code",
   "execution_count": 3,
   "id": "reasonable-marketing",
   "metadata": {},
   "outputs": [
    {
     "name": "stderr",
     "output_type": "stream",
     "text": [
      "[nltk_data] Downloading package vader_lexicon to\n",
      "[nltk_data]     C:\\Users\\dell\\AppData\\Roaming\\nltk_data...\n",
      "[nltk_data]   Package vader_lexicon is already up-to-date!\n"
     ]
    }
   ],
   "source": [
    "import nltk\n",
    "nltk.download('vader_lexicon')\n",
    "from nltk.sentiment.vader import SentimentIntensityAnalyzer\n",
    "\n",
    "sid = SentimentIntensityAnalyzer()"
   ]
  },
  {
   "cell_type": "code",
   "execution_count": 4,
   "id": "willing-strengthening",
   "metadata": {},
   "outputs": [
    {
     "data": {
      "text/plain": [
       "{'neg': 0.0, 'neu': 0.672, 'pos': 0.328, 'compound': 0.5267}"
      ]
     },
     "execution_count": 4,
     "metadata": {},
     "output_type": "execute_result"
    }
   ],
   "source": [
    "sid.polarity_scores(al[0][0])"
   ]
  },
  {
   "cell_type": "code",
   "execution_count": 5,
   "id": "raised-secretary",
   "metadata": {},
   "outputs": [
    {
     "name": "stdout",
     "output_type": "stream",
     "text": [
      "['Technical View: Nifty forms bullish candle, rally can extend to 14,600-14,650', 'Taking Stock: Market shrugs off weak macro data to gain more than 1%; auto, banks, metal shine', 'After The Bell: Nifty back above 14500; what should investors do on Thursday?', 'Second COVID wave far worse, Nifty can fall 4-8% but use dips to buy, say experts', 'IPL portfolio for FY22: Experts put together 11 stocks to help you hit your long-term goals', 'DAILY VOICE | Can bet on export-oriented sectors as recovery seems faster in the west: Harshad Chetanwala of MyWealthGrowth', 'Trade Spotlight: What should investors do with Cipla, Dr Reddy’s & Infosys?', 'Hot Stocks | Fine Organic, AstraZeneca Pharma, Metropolis Healthcare can give up to 19% return in short term', 'Closing Bell: Nifty ends above 14,500, Sensex gains 660 pts led by auto, metal, financials']\n"
     ]
    }
   ],
   "source": [
    "print(al[0])"
   ]
  },
  {
   "cell_type": "code",
   "execution_count": 10,
   "id": "excited-perspective",
   "metadata": {},
   "outputs": [
    {
     "name": "stdout",
     "output_type": "stream",
     "text": [
      "1334\n"
     ]
    }
   ],
   "source": [
    "scores=[]\n",
    "for i in range(len(al)):\n",
    "    score=0\n",
    "    for j in range(len(al[i])):\n",
    "        score+=sid.polarity_scores(al[i][j]).get('compound')\n",
    "    avg_score = score/len(al[i])\n",
    "    scores.append(avg_score)\n",
    "print(len(scores))"
   ]
  },
  {
   "cell_type": "code",
   "execution_count": 15,
   "id": "secondary-candle",
   "metadata": {},
   "outputs": [
    {
     "name": "stdout",
     "output_type": "stream",
     "text": [
      "[['4/13/2021', 0.2482333333333333], ['4/12/2021', 0.134625], ['4/11/2021', 0.296], ['4/10/2021', -0.27294999999999997], ['4/9/2021', 0.2804285714285714]]\n"
     ]
    }
   ],
   "source": [
    "#creating the DF\n",
    "rows = []\n",
    "\n",
    "for i in range(len(al)):\n",
    "     rows.append([dates[i], scores[i]])\n",
    "print(rows[0:5])\n",
    "\n",
    "df_new = pd.DataFrame(rows, columns=[\"Dates\", \"scores\"])\n",
    "\n",
    "#print(df_new)\n",
    "df_new.to_csv('stock_scores.csv')"
   ]
  },
  {
   "cell_type": "code",
   "execution_count": null,
   "id": "hired-ready",
   "metadata": {},
   "outputs": [],
   "source": []
  }
 ],
 "metadata": {
  "kernelspec": {
   "display_name": "Python 3",
   "language": "python",
   "name": "python3"
  },
  "language_info": {
   "codemirror_mode": {
    "name": "ipython",
    "version": 3
   },
   "file_extension": ".py",
   "mimetype": "text/x-python",
   "name": "python",
   "nbconvert_exporter": "python",
   "pygments_lexer": "ipython3",
   "version": "3.6.8"
  }
 },
 "nbformat": 4,
 "nbformat_minor": 5
}
