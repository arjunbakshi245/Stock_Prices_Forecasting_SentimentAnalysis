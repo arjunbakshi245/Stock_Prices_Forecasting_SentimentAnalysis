{
 "cells": [
  {
   "cell_type": "code",
   "execution_count": 161,
   "id": "taken-dispatch",
   "metadata": {},
   "outputs": [],
   "source": [
    "import numpy as np\n",
    "import pandas as pd\n",
    "from sklearn.metrics import mean_squared_error, mean_absolute_error , mean_absolute_percentage_error\n",
    "from sklearn.preprocessing import StandardScaler"
   ]
  },
  {
   "cell_type": "code",
   "execution_count": 191,
   "id": "transparent-pontiac",
   "metadata": {},
   "outputs": [],
   "source": [
    "df_with_sentiment = pd.read_csv('with_sentiment.csv')\n",
    "df_without_sentiment = pd.read_csv('without_sentiment.csv')\n",
    "df_real = pd.read_csv('orgi.csv') \n",
    "df_arima = pd.read_csv('arima.csv')\n",
    "df_GRU_nosent = pd.read_csv('without_sentiment.csv')\n",
    "df_GRU_sent = pd.read_csv('LSTM_7.csv')"
   ]
  },
  {
   "cell_type": "code",
   "execution_count": 192,
   "id": "statutory-calgary",
   "metadata": {},
   "outputs": [
    {
     "name": "stdout",
     "output_type": "stream",
     "text": [
      "         Date          Open          High           Low         Close  \\\n",
      "0  2021-01-29  13946.599609  13966.849609  13596.750000  13634.599609   \n",
      "1  2021-02-01  13758.599609  14336.349609  13661.750000  14281.200195   \n",
      "2  2021-02-02  14481.099609  14731.700195  14469.150391  14647.849609   \n",
      "3  2021-02-03  14754.900391  14868.849609  14574.150391  14789.950195   \n",
      "4  2021-02-04  14789.049805  14913.700195  14714.750000  14895.650391   \n",
      "\n",
      "      Adj Close  Volume  \n",
      "0  13634.599609  753200  \n",
      "1  14281.200195  870500  \n",
      "2  14647.849609  915000  \n",
      "3  14789.950195  869500  \n",
      "4  14895.650391  884700  \n",
      "   Unnamed: 0        Date       Open\n",
      "0           0  2021-01-29  14367.145\n",
      "1           1  2021-01-30  14461.040\n",
      "2           2  2021-01-31  14535.489\n",
      "3           3  2021-02-01  14607.887\n",
      "4           4  2021-02-02  14668.742\n",
      "   Unnamed: 0        Date       Open\n",
      "0           0  2021-01-29  14470.136\n",
      "1           1  2021-01-30  14548.921\n",
      "2           2  2021-01-31  14640.489\n",
      "3           3  2021-02-01  14730.456\n",
      "4           4  2021-02-02  14805.190\n"
     ]
    }
   ],
   "source": [
    "#print(df_with_sentiment.head())\n",
    "#print(len(df_with_sentiment))\n",
    "#print(len(df_without_sentiment))\n",
    "#print(df_without_sentiment.head())\n",
    "print(df_real.head())\n",
    "print(df_GRU_sent.head())\n",
    "print(df_GRU_nosent.head())"
   ]
  },
  {
   "cell_type": "raw",
   "id": "composite-positive",
   "metadata": {},
   "source": []
  },
  {
   "cell_type": "code",
   "execution_count": 193,
   "id": "boolean-family",
   "metadata": {},
   "outputs": [],
   "source": [
    "#df_with_sentiment.columns = ['Unnamed: 0', 'Date', 'Open_with_sent']\n",
    "#df_without_sentiment.columns = ['Unnamed: 0', 'Date', 'Open_wihout_sent']\n",
    "df_GRU_nosent.columns = ['Unnamed: 0', 'Date', 'Open_GRU_nosent']\n",
    "df_GRU_sent.columns = ['Unnamed: 0', 'Date', 'Open_GRU_sent']"
   ]
  },
  {
   "cell_type": "code",
   "execution_count": 194,
   "id": "middle-archive",
   "metadata": {},
   "outputs": [],
   "source": [
    "#InnerJoing\n",
    "\n",
    "#result_1 = pd.merge(df_with_sentiment, df_without_sentiment, how=\"inner\", on=[\"Date\"])\n",
    "result_GRU  = pd.merge(df_GRU_sent, df_GRU_nosent, how=\"inner\", on=[\"Date\"])\n"
   ]
  },
  {
   "cell_type": "code",
   "execution_count": 195,
   "id": "driven-november",
   "metadata": {},
   "outputs": [
    {
     "name": "stdout",
     "output_type": "stream",
     "text": [
      "21\n"
     ]
    },
    {
     "data": {
      "text/html": [
       "<div>\n",
       "<style scoped>\n",
       "    .dataframe tbody tr th:only-of-type {\n",
       "        vertical-align: middle;\n",
       "    }\n",
       "\n",
       "    .dataframe tbody tr th {\n",
       "        vertical-align: top;\n",
       "    }\n",
       "\n",
       "    .dataframe thead th {\n",
       "        text-align: right;\n",
       "    }\n",
       "</style>\n",
       "<table border=\"1\" class=\"dataframe\">\n",
       "  <thead>\n",
       "    <tr style=\"text-align: right;\">\n",
       "      <th></th>\n",
       "      <th>Date</th>\n",
       "      <th>Open</th>\n",
       "      <th>High</th>\n",
       "      <th>Low</th>\n",
       "      <th>Close</th>\n",
       "      <th>Adj Close</th>\n",
       "      <th>Volume</th>\n",
       "      <th>Unnamed: 0_x</th>\n",
       "      <th>Open_GRU_sent</th>\n",
       "      <th>Unnamed: 0_y</th>\n",
       "      <th>Open_GRU_nosent</th>\n",
       "    </tr>\n",
       "  </thead>\n",
       "  <tbody>\n",
       "    <tr>\n",
       "      <th>0</th>\n",
       "      <td>2021-01-29</td>\n",
       "      <td>13946.599609</td>\n",
       "      <td>13966.849609</td>\n",
       "      <td>13596.750000</td>\n",
       "      <td>13634.599609</td>\n",
       "      <td>13634.599609</td>\n",
       "      <td>753200</td>\n",
       "      <td>0</td>\n",
       "      <td>14367.145</td>\n",
       "      <td>0</td>\n",
       "      <td>14470.136</td>\n",
       "    </tr>\n",
       "    <tr>\n",
       "      <th>1</th>\n",
       "      <td>2021-02-01</td>\n",
       "      <td>13758.599609</td>\n",
       "      <td>14336.349609</td>\n",
       "      <td>13661.750000</td>\n",
       "      <td>14281.200195</td>\n",
       "      <td>14281.200195</td>\n",
       "      <td>870500</td>\n",
       "      <td>3</td>\n",
       "      <td>14607.887</td>\n",
       "      <td>3</td>\n",
       "      <td>14730.456</td>\n",
       "    </tr>\n",
       "    <tr>\n",
       "      <th>2</th>\n",
       "      <td>2021-02-02</td>\n",
       "      <td>14481.099609</td>\n",
       "      <td>14731.700195</td>\n",
       "      <td>14469.150391</td>\n",
       "      <td>14647.849609</td>\n",
       "      <td>14647.849609</td>\n",
       "      <td>915000</td>\n",
       "      <td>4</td>\n",
       "      <td>14668.742</td>\n",
       "      <td>4</td>\n",
       "      <td>14805.190</td>\n",
       "    </tr>\n",
       "    <tr>\n",
       "      <th>3</th>\n",
       "      <td>2021-02-03</td>\n",
       "      <td>14754.900391</td>\n",
       "      <td>14868.849609</td>\n",
       "      <td>14574.150391</td>\n",
       "      <td>14789.950195</td>\n",
       "      <td>14789.950195</td>\n",
       "      <td>869500</td>\n",
       "      <td>5</td>\n",
       "      <td>14637.672</td>\n",
       "      <td>5</td>\n",
       "      <td>14795.561</td>\n",
       "    </tr>\n",
       "    <tr>\n",
       "      <th>4</th>\n",
       "      <td>2021-02-04</td>\n",
       "      <td>14789.049805</td>\n",
       "      <td>14913.700195</td>\n",
       "      <td>14714.750000</td>\n",
       "      <td>14895.650391</td>\n",
       "      <td>14895.650391</td>\n",
       "      <td>884700</td>\n",
       "      <td>6</td>\n",
       "      <td>14622.640</td>\n",
       "      <td>6</td>\n",
       "      <td>14799.605</td>\n",
       "    </tr>\n",
       "    <tr>\n",
       "      <th>5</th>\n",
       "      <td>2021-02-05</td>\n",
       "      <td>14952.599609</td>\n",
       "      <td>15014.650391</td>\n",
       "      <td>14864.750000</td>\n",
       "      <td>14924.250000</td>\n",
       "      <td>14924.250000</td>\n",
       "      <td>935600</td>\n",
       "      <td>7</td>\n",
       "      <td>14653.125</td>\n",
       "      <td>7</td>\n",
       "      <td>14844.167</td>\n",
       "    </tr>\n",
       "  </tbody>\n",
       "</table>\n",
       "</div>"
      ],
      "text/plain": [
       "         Date          Open          High           Low         Close  \\\n",
       "0  2021-01-29  13946.599609  13966.849609  13596.750000  13634.599609   \n",
       "1  2021-02-01  13758.599609  14336.349609  13661.750000  14281.200195   \n",
       "2  2021-02-02  14481.099609  14731.700195  14469.150391  14647.849609   \n",
       "3  2021-02-03  14754.900391  14868.849609  14574.150391  14789.950195   \n",
       "4  2021-02-04  14789.049805  14913.700195  14714.750000  14895.650391   \n",
       "5  2021-02-05  14952.599609  15014.650391  14864.750000  14924.250000   \n",
       "\n",
       "      Adj Close  Volume  Unnamed: 0_x  Open_GRU_sent  Unnamed: 0_y  \\\n",
       "0  13634.599609  753200             0      14367.145             0   \n",
       "1  14281.200195  870500             3      14607.887             3   \n",
       "2  14647.849609  915000             4      14668.742             4   \n",
       "3  14789.950195  869500             5      14637.672             5   \n",
       "4  14895.650391  884700             6      14622.640             6   \n",
       "5  14924.250000  935600             7      14653.125             7   \n",
       "\n",
       "   Open_GRU_nosent  \n",
       "0        14470.136  \n",
       "1        14730.456  \n",
       "2        14805.190  \n",
       "3        14795.561  \n",
       "4        14799.605  \n",
       "5        14844.167  "
      ]
     },
     "execution_count": 195,
     "metadata": {},
     "output_type": "execute_result"
    }
   ],
   "source": [
    "#final_df = pd.merge(df_real, result_1, how=\"inner\", on=[\"Date\"])\n",
    "final_df = pd.merge(df_real, result_GRU, how=\"inner\", on=[\"Date\"])\n",
    "#final_df = pd.merge(df_real, df_GRU_sent, how=\"inner\", on=[\"Date\"])\n",
    "print(len(final_df))\n",
    "final_df.head(6)"
   ]
  },
  {
   "cell_type": "code",
   "execution_count": 196,
   "id": "raising-shore",
   "metadata": {},
   "outputs": [],
   "source": [
    "#real_data = final_df['Open']\n",
    "real_data = final_df[['Open']].astype(float)\n",
    "#sent_data = final_df['Open_with_sent']\n",
    "#withoutsent_data = final_df['Open_wihout_sent']\n",
    "#arima_data       = final_df['Open_arima']\n",
    "GRU_nosent_data       = final_df[['Open_GRU_nosent']].astype(float)\n",
    "GRU_sent_data       = final_df[['Open_GRU_sent']].astype(float)"
   ]
  },
  {
   "cell_type": "code",
   "execution_count": null,
   "id": "honey-particular",
   "metadata": {},
   "outputs": [],
   "source": []
  },
  {
   "cell_type": "code",
   "execution_count": 189,
   "id": "stuffed-testament",
   "metadata": {},
   "outputs": [
    {
     "data": {
      "text/html": [
       "<div>\n",
       "<style scoped>\n",
       "    .dataframe tbody tr th:only-of-type {\n",
       "        vertical-align: middle;\n",
       "    }\n",
       "\n",
       "    .dataframe tbody tr th {\n",
       "        vertical-align: top;\n",
       "    }\n",
       "\n",
       "    .dataframe thead th {\n",
       "        text-align: right;\n",
       "    }\n",
       "</style>\n",
       "<table border=\"1\" class=\"dataframe\">\n",
       "  <thead>\n",
       "    <tr style=\"text-align: right;\">\n",
       "      <th></th>\n",
       "      <th>Open</th>\n",
       "    </tr>\n",
       "  </thead>\n",
       "  <tbody>\n",
       "    <tr>\n",
       "      <th>0</th>\n",
       "      <td>13946.599609</td>\n",
       "    </tr>\n",
       "    <tr>\n",
       "      <th>1</th>\n",
       "      <td>13758.599609</td>\n",
       "    </tr>\n",
       "    <tr>\n",
       "      <th>2</th>\n",
       "      <td>14481.099609</td>\n",
       "    </tr>\n",
       "    <tr>\n",
       "      <th>3</th>\n",
       "      <td>14754.900391</td>\n",
       "    </tr>\n",
       "    <tr>\n",
       "      <th>4</th>\n",
       "      <td>14789.049805</td>\n",
       "    </tr>\n",
       "    <tr>\n",
       "      <th>5</th>\n",
       "      <td>14952.599609</td>\n",
       "    </tr>\n",
       "    <tr>\n",
       "      <th>6</th>\n",
       "      <td>15064.299805</td>\n",
       "    </tr>\n",
       "    <tr>\n",
       "      <th>7</th>\n",
       "      <td>15164.150391</td>\n",
       "    </tr>\n",
       "    <tr>\n",
       "      <th>8</th>\n",
       "      <td>15119.049805</td>\n",
       "    </tr>\n",
       "    <tr>\n",
       "      <th>9</th>\n",
       "      <td>15073.250000</td>\n",
       "    </tr>\n",
       "    <tr>\n",
       "      <th>10</th>\n",
       "      <td>15186.200195</td>\n",
       "    </tr>\n",
       "    <tr>\n",
       "      <th>11</th>\n",
       "      <td>15270.299805</td>\n",
       "    </tr>\n",
       "    <tr>\n",
       "      <th>12</th>\n",
       "      <td>15371.450195</td>\n",
       "    </tr>\n",
       "    <tr>\n",
       "      <th>13</th>\n",
       "      <td>15279.900391</td>\n",
       "    </tr>\n",
       "    <tr>\n",
       "      <th>14</th>\n",
       "      <td>15238.700195</td>\n",
       "    </tr>\n",
       "    <tr>\n",
       "      <th>15</th>\n",
       "      <td>15074.799805</td>\n",
       "    </tr>\n",
       "    <tr>\n",
       "      <th>16</th>\n",
       "      <td>14999.049805</td>\n",
       "    </tr>\n",
       "    <tr>\n",
       "      <th>17</th>\n",
       "      <td>14782.250000</td>\n",
       "    </tr>\n",
       "    <tr>\n",
       "      <th>18</th>\n",
       "      <td>14729.150391</td>\n",
       "    </tr>\n",
       "    <tr>\n",
       "      <th>19</th>\n",
       "      <td>15079.849609</td>\n",
       "    </tr>\n",
       "    <tr>\n",
       "      <th>20</th>\n",
       "      <td>14888.599609</td>\n",
       "    </tr>\n",
       "  </tbody>\n",
       "</table>\n",
       "</div>"
      ],
      "text/plain": [
       "            Open\n",
       "0   13946.599609\n",
       "1   13758.599609\n",
       "2   14481.099609\n",
       "3   14754.900391\n",
       "4   14789.049805\n",
       "5   14952.599609\n",
       "6   15064.299805\n",
       "7   15164.150391\n",
       "8   15119.049805\n",
       "9   15073.250000\n",
       "10  15186.200195\n",
       "11  15270.299805\n",
       "12  15371.450195\n",
       "13  15279.900391\n",
       "14  15238.700195\n",
       "15  15074.799805\n",
       "16  14999.049805\n",
       "17  14782.250000\n",
       "18  14729.150391\n",
       "19  15079.849609\n",
       "20  14888.599609"
      ]
     },
     "execution_count": 189,
     "metadata": {},
     "output_type": "execute_result"
    }
   ],
   "source": [
    "real_data"
   ]
  },
  {
   "cell_type": "raw",
   "id": "indonesian-limitation",
   "metadata": {},
   "source": []
  },
  {
   "cell_type": "code",
   "execution_count": null,
   "id": "general-seventh",
   "metadata": {},
   "outputs": [],
   "source": [
    "\n"
   ]
  },
  {
   "cell_type": "code",
   "execution_count": 120,
   "id": "exciting-passenger",
   "metadata": {},
   "outputs": [],
   "source": []
  },
  {
   "cell_type": "code",
   "execution_count": 121,
   "id": "extensive-primary",
   "metadata": {},
   "outputs": [],
   "source": []
  },
  {
   "cell_type": "code",
   "execution_count": null,
   "id": "unknown-gnome",
   "metadata": {},
   "outputs": [],
   "source": []
  },
  {
   "cell_type": "code",
   "execution_count": 8,
   "id": "guided-dispute",
   "metadata": {},
   "outputs": [
    {
     "name": "stdout",
     "output_type": "stream",
     "text": [
      "MSE\n",
      "Sentiment:   473333.5418729142\n",
      "No Sentiment:   864577.3038522463\n",
      "\n",
      "MAE\n",
      "Sentiment:   583.5811730000003\n",
      "No Sentiment:   689.5893031904761\n",
      "\n",
      "MAPE\n",
      "Sentiment:   0.038892862778149906\n",
      "No Sentiment:   0.04643926711431763\n"
     ]
    }
   ],
   "source": [
    "#LSTM\n",
    "\n",
    "#rmse\n",
    "print('MSE')\n",
    "print('Sentiment:  ',mean_squared_error(real_data, sent_data))\n",
    "print('No Sentiment:  ',mean_squared_error(real_data, withoutsent_data))\n",
    "#mae\n",
    "print('')\n",
    "print('MAE')\n",
    "print('Sentiment:  ',mean_absolute_error(real_data, sent_data))\n",
    "print('No Sentiment:  ',mean_absolute_error(real_data, withoutsent_data))\n",
    "\n",
    "#MAPE\n",
    "print('')\n",
    "print('MAPE')\n",
    "print('Sentiment:  ',mean_absolute_percentage_error(real_data, sent_data))\n",
    "print('No Sentiment:  ',mean_absolute_percentage_error(real_data, withoutsent_data))"
   ]
  },
  {
   "cell_type": "code",
   "execution_count": null,
   "id": "unnecessary-august",
   "metadata": {},
   "outputs": [],
   "source": [
    "scaler = StandardScaler()\n",
    "scaler = scaler.fit(df_for_training)\n",
    "df_for_training_scaled = scaler.transform(df_for_training)"
   ]
  },
  {
   "cell_type": "code",
   "execution_count": 19,
   "id": "blank-guarantee",
   "metadata": {},
   "outputs": [
    {
     "name": "stdout",
     "output_type": "stream",
     "text": [
      "MSE\n",
      "   2238320.1017061346\n",
      "\n",
      "MAE\n",
      "   1444.2212430000004\n",
      "\n",
      "MAPE\n",
      "   0.09622921569431611\n"
     ]
    }
   ],
   "source": [
    "#ARIMA\n",
    "#rmse\n",
    "print('MSE')\n",
    "print('  ',mean_squared_error(real_data, arima_data))\n",
    "\n",
    "#mae\n",
    "print('')\n",
    "print('MAE')\n",
    "print('  ',mean_absolute_error(real_data, arima_data))\n",
    "\n",
    "#MAPE\n",
    "print('')\n",
    "print('MAPE')\n",
    "print('  ',mean_absolute_percentage_error(real_data, arima_data))\n"
   ]
  },
  {
   "cell_type": "code",
   "execution_count": 197,
   "id": "charming-angle",
   "metadata": {},
   "outputs": [
    {
     "name": "stdout",
     "output_type": "stream",
     "text": [
      "MSE\n",
      "Sentiment:   647977.2137757116\n",
      "No Sentiment:   864577.3038522463\n",
      "\n",
      "MAE\n",
      "Sentiment:   630.7099513809524\n",
      "No Sentiment:   689.5893031904761\n",
      "\n",
      "MAPE\n",
      "Sentiment:   0.042435809556255706\n",
      "No Sentiment:   0.04643926711431763\n"
     ]
    }
   ],
   "source": [
    "#GRU\n",
    "#rmse\n",
    "print('MSE')\n",
    "print('Sentiment:  ',mean_squared_error(real_data, GRU_sent_data))\n",
    "print('No Sentiment:  ',mean_squared_error(real_data, GRU_nosent_data))\n",
    "#mae\n",
    "print('')\n",
    "print('MAE')\n",
    "print('Sentiment:  ',mean_absolute_error(real_data, GRU_sent_data))\n",
    "print('No Sentiment:  ',mean_absolute_error(real_data, GRU_nosent_data))\n",
    "\n",
    "#MAPE\n",
    "print('')\n",
    "print('MAPE')\n",
    "print('Sentiment:  ',mean_absolute_percentage_error(real_data, GRU_sent_data))\n",
    "print('No Sentiment:  ',mean_absolute_percentage_error(real_data, GRU_nosent_data))"
   ]
  },
  {
   "cell_type": "code",
   "execution_count": 123,
   "id": "optical-space",
   "metadata": {},
   "outputs": [
    {
     "data": {
      "text/plain": [
       "array([[-1.47868069],\n",
       "       [-1.01635755],\n",
       "       [-0.96752327],\n",
       "       [-1.32290406],\n",
       "       [-1.47624472],\n",
       "       [-1.40115871],\n",
       "       [-0.78392758],\n",
       "       [-0.61808236],\n",
       "       [-0.36781988],\n",
       "       [-0.20133225],\n",
       "       [ 0.00559154],\n",
       "       [ 0.52385055],\n",
       "       [ 0.72980371],\n",
       "       [ 1.01277242],\n",
       "       [ 1.12021064],\n",
       "       [ 1.19996931],\n",
       "       [ 0.98442702],\n",
       "       [ 1.19349371],\n",
       "       [ 1.16765696],\n",
       "       [ 1.01582969],\n",
       "       [ 0.6804255 ]])"
      ]
     },
     "execution_count": 123,
     "metadata": {},
     "output_type": "execute_result"
    }
   ],
   "source": [
    "GRU_sent_data"
   ]
  },
  {
   "cell_type": "code",
   "execution_count": 124,
   "id": "still-template",
   "metadata": {},
   "outputs": [
    {
     "data": {
      "text/plain": [
       "array([[-2.37688701],\n",
       "       [-2.84316428],\n",
       "       [-1.05122103],\n",
       "       [-0.37214081],\n",
       "       [-0.28744349],\n",
       "       [ 0.11819245],\n",
       "       [ 0.39523108],\n",
       "       [ 0.64288033],\n",
       "       [ 0.53102194],\n",
       "       [ 0.41742934],\n",
       "       [ 0.69756822],\n",
       "       [ 0.90615193],\n",
       "       [ 1.15702495],\n",
       "       [ 0.92996328],\n",
       "       [ 0.82777863],\n",
       "       [ 0.42127316],\n",
       "       [ 0.23339815],\n",
       "       [-0.30430836],\n",
       "       [-0.43600591],\n",
       "       [ 0.43379768],\n",
       "       [-0.04054024]])"
      ]
     },
     "execution_count": 124,
     "metadata": {},
     "output_type": "execute_result"
    }
   ],
   "source": [
    "real_data"
   ]
  },
  {
   "cell_type": "code",
   "execution_count": null,
   "id": "dominant-mixture",
   "metadata": {},
   "outputs": [],
   "source": []
  }
 ],
 "metadata": {
  "kernelspec": {
   "display_name": "Python 3",
   "language": "python",
   "name": "python3"
  },
  "language_info": {
   "codemirror_mode": {
    "name": "ipython",
    "version": 3
   },
   "file_extension": ".py",
   "mimetype": "text/x-python",
   "name": "python",
   "nbconvert_exporter": "python",
   "pygments_lexer": "ipython3",
   "version": "3.6.8"
  }
 },
 "nbformat": 4,
 "nbformat_minor": 5
}
