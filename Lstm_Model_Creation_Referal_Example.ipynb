{
 "cells": [
  {
   "cell_type": "code",
   "execution_count": 1,
   "id": "ultimate-winning",
   "metadata": {},
   "outputs": [],
   "source": [
    "#imports\n",
    "#from skimage import io\n",
    "from matplotlib import pyplot as plt\n",
    "import numpy as np\n",
    "import pandas as pd\n",
    "import pandas_datareader as web\n",
    "import datetime as dt\n",
    "from sklearn.preprocessing import MinMaxScaler\n",
    "from tensorflow.keras.models import Sequential\n",
    "from tensorflow.keras.layers import Dense,Dropout,LSTM\n"
   ]
  },
  {
   "cell_type": "code",
   "execution_count": 2,
   "id": "friendly-contemporary",
   "metadata": {},
   "outputs": [],
   "source": [
    "#Preparing data\n",
    "company='ONGC.NS'\n",
    "start =dt.datetime(2012,1,1)\n",
    "end=dt.datetime(2020, 1, 1)\n",
    "data=web.DataReader(company,'yahoo',start,end)\n",
    "\n",
    "scaler=MinMaxScaler(feature_range=(0,1))\n",
    "scaled_data=scaler.fit_transform(data['Close'].values.reshape(-1,1))\n",
    "prediction_Days=60\n",
    "\n",
    "x_train=[]\n",
    "y_train=[]\n",
    "for x in range(prediction_Days,len(scaled_data)):\n",
    "    x_train.append(scaled_data[x-prediction_Days:x,0])\n",
    "    y_train.append(scaled_data[x,0])\n",
    "    \n",
    "x_train,y_train=np.array(x_train),np.array(y_train)\n",
    "x_train=np.reshape(x_train,(x_train.shape[0],x_train.shape[1],1))\n"
   ]
  },
  {
   "cell_type": "code",
   "execution_count": 3,
   "id": "supposed-exemption",
   "metadata": {},
   "outputs": [
    {
     "name": "stdout",
     "output_type": "stream",
     "text": [
      "Epoch 1/25\n",
      "60/60 [==============================] - 13s 81ms/step - loss: 0.0280\n",
      "Epoch 2/25\n",
      "60/60 [==============================] - 4s 74ms/step - loss: 0.0037\n",
      "Epoch 3/25\n",
      "60/60 [==============================] - 5s 76ms/step - loss: 0.0034\n",
      "Epoch 4/25\n",
      "60/60 [==============================] - 5s 77ms/step - loss: 0.0029\n",
      "Epoch 5/25\n",
      "60/60 [==============================] - 5s 77ms/step - loss: 0.0030\n",
      "Epoch 6/25\n",
      "60/60 [==============================] - 5s 79ms/step - loss: 0.0026\n",
      "Epoch 7/25\n",
      "60/60 [==============================] - 5s 79ms/step - loss: 0.0027\n",
      "Epoch 8/25\n",
      "60/60 [==============================] - 5s 79ms/step - loss: 0.0029\n",
      "Epoch 9/25\n",
      "60/60 [==============================] - 5s 79ms/step - loss: 0.0024\n",
      "Epoch 10/25\n",
      "60/60 [==============================] - 5s 79ms/step - loss: 0.0022\n",
      "Epoch 11/25\n",
      "60/60 [==============================] - 5s 78ms/step - loss: 0.0021\n",
      "Epoch 12/25\n",
      "60/60 [==============================] - 5s 81ms/step - loss: 0.0021\n",
      "Epoch 13/25\n",
      "60/60 [==============================] - 5s 80ms/step - loss: 0.0021\n",
      "Epoch 14/25\n",
      "60/60 [==============================] - 5s 84ms/step - loss: 0.0020\n",
      "Epoch 15/25\n",
      "60/60 [==============================] - 5s 82ms/step - loss: 0.0020\n",
      "Epoch 16/25\n",
      "60/60 [==============================] - 5s 80ms/step - loss: 0.0020\n",
      "Epoch 17/25\n",
      "60/60 [==============================] - 5s 78ms/step - loss: 0.0020\n",
      "Epoch 18/25\n",
      "60/60 [==============================] - 5s 80ms/step - loss: 0.0021\n",
      "Epoch 19/25\n",
      "60/60 [==============================] - 5s 78ms/step - loss: 0.0018\n",
      "Epoch 20/25\n",
      "60/60 [==============================] - 5s 78ms/step - loss: 0.0017\n",
      "Epoch 21/25\n",
      "60/60 [==============================] - 5s 78ms/step - loss: 0.0016\n",
      "Epoch 22/25\n",
      "60/60 [==============================] - 5s 78ms/step - loss: 0.0018\n",
      "Epoch 23/25\n",
      "60/60 [==============================] - 5s 79ms/step - loss: 0.0015\n",
      "Epoch 24/25\n",
      "60/60 [==============================] - 5s 79ms/step - loss: 0.0015\n",
      "Epoch 25/25\n",
      "60/60 [==============================] - 5s 80ms/step - loss: 0.0015\n"
     ]
    }
   ],
   "source": [
    "#Creating model\n",
    "model=Sequential()\n",
    "model.add(LSTM(units=50, return_sequences=True,input_shape=(x_train.shape[1],1)))\n",
    "model.add(Dropout(0.2))\n",
    "model.add(LSTM(units=50, return_sequences=True))\n",
    "model.add(Dropout(0.2))\n",
    "model.add(LSTM(units=50))\n",
    "model.add(Dropout(0.2))\n",
    "model.add(Dense(units=1))\n",
    "\n",
    "model.compile(optimizer='adam',loss='mean_squared_error')\n",
    "model.fit(x_train,y_train,epochs=25,batch_size=32)\n",
    " \n",
    "test_start =dt.datetime(2020,1,1)\n",
    "test_end=dt.datetime.now()\n",
    "\n",
    "test_data=web.DataReader(company,'yahoo',test_start,test_end)\n",
    "\n",
    "actual_prices=test_data['Close'].values\n",
    "\n",
    "total_dataset=pd.concat((data['Close'],test_data['Close']))\n",
    "\n",
    "model_inputs=total_dataset[len(total_dataset)-len(test_data)-prediction_Days:].values\n",
    "model_inputs=model_inputs.reshape(-1,1)\n",
    "model_inputs=scaler.transform(model_inputs)\n",
    "x_test=[]\n",
    "for x in range(prediction_Days,len(model_inputs)):\n",
    "    x_test.append(model_inputs[x-prediction_Days:x,0])\n",
    "x_test=np.array(x_test)\n",
    "x_test =np.reshape(x_test,(x_test.shape[0],x_test.shape[1],1))\n",
    "predicted_prices=model.predict(x_test)\n",
    "predicted_prices=scaler.inverse_transform(predicted_prices)    \n"
   ]
  },
  {
   "cell_type": "code",
   "execution_count": 4,
   "id": "governing-venture",
   "metadata": {},
   "outputs": [
    {
     "data": {
      "image/png": "[encoded data removed]",
      "text/plain": [
       "<Figure size 432x288 with 1 Axes>"
      ]
     },
     "metadata": {
      "needs_background": "light"
     },
     "output_type": "display_data"
    },
    {
     "name": "stdout",
     "output_type": "stream",
     "text": [
      "WARNING:tensorflow:Model was constructed with shape (None, 60, 1) for input KerasTensor(type_spec=TensorSpec(shape=(None, 60, 1), dtype=tf.float32, name='lstm_input'), name='lstm_input', description=\"created by layer 'lstm_input'\"), but it was called on an input with incompatible shape (None, 59, 1).\n",
      "Prediction: [[115.273186]]\n"
     ]
    }
   ],
   "source": [
    "#Plots\n",
    "plt.plot(actual_prices,color='black',label=f\"Actual {company} Price\")\n",
    "plt.plot(predicted_prices,color='green',label=f\"Predicted {company} Price\")    \n",
    "plt.title(f\"{company} Share Price\") \n",
    "plt.xlabel('Time')\n",
    "plt.ylabel(f'{company} Share Price')\n",
    "plt.show()\n",
    "                  \n",
    "real_data=[model_inputs[len(model_inputs)+1-prediction_Days:len(model_inputs+1),0]]\n",
    "real_data=np.array(real_data)\n",
    "real_data=np.reshape(real_data,(real_data.shape[0],real_data.shape[1],1))\n",
    "\n",
    "prediction=model.predict(real_data)\n",
    "prediction=scaler.inverse_transform(prediction)\n",
    "print(f\"Prediction: {prediction}\")"
   ]
  },
  {
   "cell_type": "code",
   "execution_count": null,
   "id": "tribal-seattle",
   "metadata": {},
   "outputs": [],
   "source": []
  }
 ],
 "metadata": {
  "kernelspec": {
   "display_name": "Python 3",
   "language": "python",
   "name": "python3"
  },
  "language_info": {
   "codemirror_mode": {
    "name": "ipython",
    "version": 3
   },
   "file_extension": ".py",
   "mimetype": "text/x-python",
   "name": "python",
   "nbconvert_exporter": "python",
   "pygments_lexer": "ipython3",
   "version": "3.6.8"
  }
 },
 "nbformat": 4,
 "nbformat_minor": 5
}
